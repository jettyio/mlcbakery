{
 "cells": [
  {
   "cell_type": "code",
   "execution_count": null,
   "metadata": {},
   "outputs": [
    {
     "name": "stderr",
     "output_type": "stream",
     "text": [
      "2025-04-24 18:30:12,556 - absl - WARNING - Found the following 2 warning(s) during the validation:\n",
      "  -  [Metadata(gpt-3)] Property \"https://schema.org/datePublished\" is recommended, but does not exist.\n",
      "  -  [Metadata(gpt-3)] Property \"https://schema.org/version\" is recommended, but does not exist.\n",
      "2025-04-24 18:30:12,557 - mlcbakery.bakery_client - INFO - Requesting Croissant dataset validation from API.\n",
      "2025-04-24 18:30:12,557 - mlcbakery.bakery_client - INFO - Sending validation request to /datasets/mlcroissant-validation\n",
      "2025-04-24 18:30:12,558 - mlcbakery.bakery_client - INFO - Requesting POST http://localhost:8000/api/v1/datasets/mlcroissant-validation with headers: {}\n",
      "2025-04-24 18:30:12,583 - mlcbakery.bakery_client - INFO - Validation API response received. Overall result: Failed\n"
     ]
    },
    {
     "data": {
      "text/plain": [
       "{'filename': 'metadata.json',\n",
       " 'overall_passed': False,\n",
       " 'steps': [{'name': 'JSON Validation',\n",
       "   'passed': True,\n",
       "   'message': 'The file is valid JSON.',\n",
       "   'details': None},\n",
       "  {'name': 'Croissant Schema Validation',\n",
       "   'passed': True,\n",
       "   'message': 'The dataset passes Croissant validation.',\n",
       "   'details': None},\n",
       "  {'name': 'Records Generation Validation',\n",
       "   'passed': False,\n",
       "   'message': \"Record set 'default' failed: An error occured during the streaming generation of the dataset, more specifically during the operation Download(repo)\",\n",
       "   'details': 'Traceback (most recent call last):\\n  File \"/app/mlcbakery/croissant_validation.py\", line 59, in validate_records\\n    _ = func_timeout.func_timeout(_WAIT_TIME, lambda: next(iter(records)))\\n        ^^^^^^^^^^^^^^^^^^^^^^^^^^^^^^^^^^^^^^^^^^^^^^^^^^^^^^^^^^^^^^^^^^\\n  File \"/usr/local/lib/python3.12/site-packages/func_timeout/dafunc.py\", line 108, in func_timeout\\n    raise_exception(exception)\\n  File \"/usr/local/lib/python3.12/site-packages/func_timeout/py3_raise.py\", line 7, in raise_exception\\n    raise exception[0] from None\\n  File \"/app/mlcbakery/croissant_validation.py\", line 59, in <lambda>\\n    _ = func_timeout.func_timeout(_WAIT_TIME, lambda: next(iter(records)))\\n                                                      ^^^^^^^^^^^^^^^^^^^\\n  File \"/usr/local/lib/python3.12/site-packages/mlcroissant/_src/datasets.py\", line 166, in __iter__\\n    yield from execute_operations_in_streaming(\\n  File \"/usr/local/lib/python3.12/site-packages/mlcroissant/_src/operation_graph/execute.py\", line 121, in execute_operations_in_streaming\\n    raise GenerationError(\\nmlcroissant._src.core.issues.GenerationError: An error occured during the streaming generation of the dataset, more specifically during the operation Download(repo)'}],\n",
       " 'json_reference': 'tests/data/valid_mlcroissant.json'}"
      ]
     },
     "execution_count": 3,
     "metadata": {},
     "output_type": "execute_result"
    }
   ],
   "source": [
    "import mlcroissant as mlc\n",
    "import mlcbakery.bakery_client as bakery_client\n",
    "\n",
    "ds = mlc.Dataset(\"tests/data/valid_mlcroissant.json\")\n",
    "client = bakery_client.Client(\n",
    "    bakery_url=\"http://localhost:8000\"\n",
    ")\n",
    "client.validate_croissant_dataset(ds)"
   ]
  }
 ],
 "metadata": {
  "kernelspec": {
   "display_name": "base",
   "language": "python",
   "name": "python3"
  },
  "language_info": {
   "codemirror_mode": {
    "name": "ipython",
    "version": 3
   },
   "file_extension": ".py",
   "mimetype": "text/x-python",
   "name": "python",
   "nbconvert_exporter": "python",
   "pygments_lexer": "ipython3",
   "version": "3.12.9"
  }
 },
 "nbformat": 4,
 "nbformat_minor": 2
}
