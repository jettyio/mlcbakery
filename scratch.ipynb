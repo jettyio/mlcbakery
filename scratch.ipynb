{
 "cells": [
  {
   "cell_type": "code",
   "execution_count": 1,
   "metadata": {},
   "outputs": [
    {
     "name": "stderr",
     "output_type": "stream",
     "text": [
      "2025-05-08 18:53:27,566 - absl - WARNING - Found the following 2 warning(s) during the validation:\n",
      "  -  [Metadata(gpt-3)] Property \"https://schema.org/datePublished\" is recommended, but does not exist.\n",
      "  -  [Metadata(gpt-3)] Property \"https://schema.org/version\" is recommended, but does not exist.\n",
      "2025-05-08 18:53:27,567 - mlcbakery.bakery_client - INFO - Requesting Croissant dataset validation from API.\n",
      "2025-05-08 18:53:27,568 - mlcbakery.bakery_client - INFO - Sending validation request to /datasets/mlcroissant-validation\n",
      "2025-05-08 18:53:27,676 - mlcbakery.bakery_client - INFO - Validation API response received. Overall result: Failed\n"
     ]
    },
    {
     "data": {
      "text/plain": [
       "{'filename': 'metadata.json',\n",
       " 'overall_passed': False,\n",
       " 'steps': [{'name': 'JSON Validation',\n",
       "   'passed': True,\n",
       "   'message': 'The file is valid JSON.',\n",
       "   'details': None},\n",
       "  {'name': 'Croissant Schema Validation',\n",
       "   'passed': True,\n",
       "   'message': 'The dataset passes Croissant validation.',\n",
       "   'details': None},\n",
       "  {'name': 'Records Generation Validation',\n",
       "   'passed': False,\n",
       "   'message': \"Record set 'default' failed: An error occured during the streaming generation of the dataset, more specifically during the operation Download(repo)\",\n",
       "   'details': 'Traceback (most recent call last):\\n  File \"/app/mlcbakery/croissant_validation.py\", line 59, in validate_records\\n    _ = func_timeout.func_timeout(_WAIT_TIME, lambda: next(iter(records)))\\n        ^^^^^^^^^^^^^^^^^^^^^^^^^^^^^^^^^^^^^^^^^^^^^^^^^^^^^^^^^^^^^^^^^^\\n  File \"/usr/local/lib/python3.12/site-packages/func_timeout/dafunc.py\", line 108, in func_timeout\\n    raise_exception(exception)\\n  File \"/usr/local/lib/python3.12/site-packages/func_timeout/py3_raise.py\", line 7, in raise_exception\\n    raise exception[0] from None\\n  File \"/app/mlcbakery/croissant_validation.py\", line 59, in <lambda>\\n    _ = func_timeout.func_timeout(_WAIT_TIME, lambda: next(iter(records)))\\n                                                      ^^^^^^^^^^^^^^^^^^^\\n  File \"/usr/local/lib/python3.12/site-packages/mlcroissant/_src/datasets.py\", line 166, in __iter__\\n    yield from execute_operations_in_streaming(\\n  File \"/usr/local/lib/python3.12/site-packages/mlcroissant/_src/operation_graph/execute.py\", line 121, in execute_operations_in_streaming\\n    raise GenerationError(\\nmlcroissant._src.core.issues.GenerationError: An error occured during the streaming generation of the dataset, more specifically during the operation Download(repo)'}],\n",
       " 'json_reference': 'tests/data/valid_mlcroissant.json'}"
      ]
     },
     "execution_count": 1,
     "metadata": {},
     "output_type": "execute_result"
    }
   ],
   "source": [
    "import mlcroissant as mlc\n",
    "import mlcbakery.bakery_client as bakery_client\n",
    "\n",
    "ds = mlc.Dataset(\"tests/data/valid_mlcroissant.json\")\n",
    "client = bakery_client.Client(\n",
    "    bakery_url=\"http://localhost:8000\",token=\"authtoken\"\n",
    ")\n",
    "client.validate_croissant_dataset(ds)"
   ]
  },
  {
   "cell_type": "code",
   "execution_count": 2,
   "metadata": {},
   "outputs": [
    {
     "name": "stderr",
     "output_type": "stream",
     "text": [
      "2025-05-08 18:53:29,118 - mlcbakery.bakery_client - ERROR - Error fetching or parsing preview for dataset test/test: Unable to find a usable engine; tried using: 'pyarrow', 'fastparquet'.\n",
      "A suitable version of pyarrow or fastparquet is required for parquet support.\n",
      "Trying to import the above resulted in these errors:\n",
      " - Missing optional dependency 'pyarrow'. pyarrow is required for parquet support. Use pip or conda to install pyarrow.\n",
      " - Missing optional dependency 'fastparquet'. fastparquet is required for parquet support. Use pip or conda to install fastparquet.\n"
     ]
    }
   ],
   "source": [
    "\n",
    "dataset = client.get_dataset_by_name(\"test\", \"test\")\n",
    "# dataset.cloud_storage_provider = \"gcp\"\n",
    "# load with json:\n",
    "import json\n",
    "storage_info = json.load(open(\"../bakerydev-bakery-storage-sa.json\"))\n",
    "\n",
    "\n",
    "client.update_collection_storage_info(collection_name=\"test\", storage_info=storage_info, storage_provider=\"gcp\")"
   ]
  }
 ],
 "metadata": {
  "kernelspec": {
   "display_name": "base",
   "language": "python",
   "name": "python3"
  },
  "language_info": {
   "codemirror_mode": {
    "name": "ipython",
    "version": 3
   },
   "file_extension": ".py",
   "mimetype": "text/x-python",
   "name": "python",
   "nbconvert_exporter": "python",
   "pygments_lexer": "ipython3",
   "version": "3.12.9"
  }
 },
 "nbformat": 4,
 "nbformat_minor": 2
}
