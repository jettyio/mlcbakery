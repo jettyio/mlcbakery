{
 "cells": [
  {
   "cell_type": "code",
   "execution_count": 12,
   "metadata": {},
   "outputs": [
    {
     "ename": "TypeError",
     "evalue": "'async_generator' object does not support the context manager protocol",
     "output_type": "error",
     "traceback": [
      "\u001b[31m---------------------------------------------------------------------------\u001b[39m",
      "\u001b[31mTypeError\u001b[39m                                 Traceback (most recent call last)",
      "\u001b[36mCell\u001b[39m\u001b[36m \u001b[39m\u001b[32mIn[12]\u001b[39m\u001b[32m, line 8\u001b[39m\n\u001b[32m      3\u001b[39m \u001b[38;5;28;01mfrom\u001b[39;00m\u001b[38;5;250m \u001b[39m\u001b[34;01mmlcbakery\u001b[39;00m\u001b[38;5;250m \u001b[39m\u001b[38;5;28;01mimport\u001b[39;00m database\n\u001b[32m      4\u001b[39m \u001b[38;5;28;01mfrom\u001b[39;00m\u001b[38;5;250m \u001b[39m\u001b[34;01mmlcbakery\u001b[39;00m\u001b[34;01m.\u001b[39;00m\u001b[34;01mschemas\u001b[39;00m\u001b[34;01m.\u001b[39;00m\u001b[34;01mdataset\u001b[39;00m\u001b[38;5;250m \u001b[39m\u001b[38;5;28;01mimport\u001b[39;00m DatasetCreate\n\u001b[32m----> \u001b[39m\u001b[32m8\u001b[39m \u001b[38;5;28;43;01mwith\u001b[39;49;00m\u001b[43m \u001b[49m\u001b[43mdatabase\u001b[49m\u001b[43m.\u001b[49m\u001b[43mget_async_db\u001b[49m\u001b[43m(\u001b[49m\u001b[43m)\u001b[49m\u001b[43m \u001b[49m\u001b[38;5;28;43;01mas\u001b[39;49;00m\u001b[43m \u001b[49m\u001b[43msession\u001b[49m\u001b[43m:\u001b[49m\n\u001b[32m      9\u001b[39m \u001b[43m    \u001b[49m\u001b[38;5;66;43;03m# dataset_create = DatasetCreate(name=\"my_data\", data_path=\"/path/data.csv\", format=\"csv\", tags=[\"v1.0.0\"])\u001b[39;49;00m\n\u001b[32m     10\u001b[39m \u001b[43m    \u001b[49m\u001b[38;5;66;43;03m# dataset = Dataset(**dataset_create.model_dump())\u001b[39;49;00m\n\u001b[32m     11\u001b[39m \u001b[43m    \u001b[49m\u001b[38;5;66;43;03m# dataset_create\u001b[39;49;00m\n\u001b[32m     12\u001b[39m \u001b[43m    \u001b[49m\u001b[43msession\u001b[49m\u001b[43m.\u001b[49m\u001b[43madd\u001b[49m\u001b[43m(\u001b[49m\u001b[43mDataset\u001b[49m\u001b[43m(\u001b[49m\u001b[43mname\u001b[49m\u001b[43m=\u001b[49m\u001b[33;43m\"\u001b[39;49m\u001b[33;43mmy_data\u001b[39;49m\u001b[33;43m\"\u001b[39;49m\u001b[43m,\u001b[49m\u001b[43m \u001b[49m\u001b[43mdata_path\u001b[49m\u001b[43m=\u001b[49m\u001b[33;43m\"\u001b[39;49m\u001b[33;43m/path/data.csv\u001b[39;49m\u001b[33;43m\"\u001b[39;49m\u001b[43m,\u001b[49m\u001b[43m \u001b[49m\u001b[38;5;28;43mformat\u001b[39;49m\u001b[43m=\u001b[49m\u001b[33;43m\"\u001b[39;49m\u001b[33;43mcsv\u001b[39;49m\u001b[33;43m\"\u001b[39;49m\u001b[43m,\u001b[49m\u001b[43m \u001b[49m\u001b[43mtags\u001b[49m\u001b[43m=\u001b[49m\u001b[43m[\u001b[49m\u001b[33;43m\"\u001b[39;49m\u001b[33;43mv1.0.0\u001b[39;49m\u001b[33;43m\"\u001b[39;49m\u001b[43m]\u001b[49m\u001b[43m)\u001b[49m\u001b[43m)\u001b[49m\n\u001b[32m     13\u001b[39m \u001b[43m    \u001b[49m\u001b[38;5;28;43;01mawait\u001b[39;49;00m\u001b[43m \u001b[49m\u001b[43msession\u001b[49m\u001b[43m.\u001b[49m\u001b[43mcommit\u001b[49m\u001b[43m(\u001b[49m\u001b[43m)\u001b[49m\n",
      "\u001b[31mTypeError\u001b[39m: 'async_generator' object does not support the context manager protocol"
     ]
    }
   ],
   "source": [
    "from mlcbakery.models import Dataset, TrainedModel, Task\n",
    "from mlcbakery.version_manager import EntityVersionManager\n",
    "from mlcbakery import database\n",
    "from mlcbakery.schemas.dataset import DatasetCreate\n",
    "\n",
    "\n",
    "\n",
    "async with database.get_async_db() as session:\n",
    "    # dataset_create = DatasetCreate(name=\"my_data\", data_path=\"/path/data.csv\", format=\"csv\", tags=[\"v1.0.0\"])\n",
    "    # dataset = Dataset(**dataset_create.model_dump())\n",
    "    # dataset_create\n",
    "    session.add(Dataset(name=\"my_data\", data_path=\"/path/data.csv\", format=\"csv\", tags=[\"v1.0.0\"]))\n",
    "    await session.commit()\n",
    "\n",
    "# Create versioned entities\n",
    "# dataset_create = DatasetCreate(name=\"my_data\", data_path=\"/path/data.csv\", format=\"csv\", tags=[\"v1.0.0\"])\n",
    "# dataset = Dataset(**dataset_create.model_dump())\n",
    "# dataset_create\n",
    "\n",
    "# # Make changes and version them\n",
    "# dataset.name = \"updated_data\"\n",
    "# version_manager.create_version(dataset, \"Updated name\", tags=[\"v1.1.0\", \"production\"])\n",
    "\n",
    "# # Navigate versions\n",
    "# version_manager.checkout_version(dataset, \"v1.0.0\")  # By tag\n",
    "# version_manager.checkout_version(dataset, hash)      # By hash\n",
    "# version_manager.checkout_version(dataset, 0)         # By index\n",
    "\n",
    "# # Compare versions\n",
    "# diff = version_manager.compare_versions(dataset, \"v1.0.0\", \"v1.1.0\")"
   ]
  }
 ],
 "metadata": {
  "kernelspec": {
   "display_name": ".venv",
   "language": "python",
   "name": "python3"
  },
  "language_info": {
   "codemirror_mode": {
    "name": "ipython",
    "version": 3
   },
   "file_extension": ".py",
   "mimetype": "text/x-python",
   "name": "python",
   "nbconvert_exporter": "python",
   "pygments_lexer": "ipython3",
   "version": "3.12.8"
  }
 },
 "nbformat": 4,
 "nbformat_minor": 2
}
