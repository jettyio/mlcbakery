{
 "cells": [
  {
   "cell_type": "code",
   "execution_count": 6,
   "metadata": {},
   "outputs": [],
   "source": [
    "import json\n",
    "import os\n",
    "import numpy as np\n",
    "import pandas as pd\n",
    "from mlcbakery import bakery_client\n",
    "import dataclasses\n",
    "import pathlib\n",
    "\n",
    "def find_or_copy_model(remote_bakery_client, local_bakery_client, collection_name, model_name):\n",
    "    # check if model exists in local client\n",
    "    try_local_model = local_bakery_client.get_model_by_name(collection_name, model_name)\n",
    "    if try_local_model:\n",
    "        print(f\"Model {model_name} already exists in local client\")\n",
    "        return try_local_model\n",
    "    model = remote_bakery_client.get_model_by_name(collection_name, model_name)\n",
    "    local_bakery_client.find_or_create_by_collection_name(model.collection_name)\n",
    "    # origin \n",
    "    local_bakery_client.create_model(model.collection_name, model.name, dataclasses.asdict(model))\n",
    "    return local_bakery_client.get_model_by_name(model.collection_name, model.name)\n",
    "\n",
    "remote_bakery_client = bakery_client.Client(\"https://bakery.jetty.io\") \n",
    "local_bakery_client = bakery_client.Client(\"http://localhost:8081\", token=os.getenv(\"ADMIN_AUTH_TOKEN\"))\n"
   ]
  },
  {
   "cell_type": "code",
   "execution_count": 8,
   "metadata": {},
   "outputs": [
    {
     "name": "stderr",
     "output_type": "stream",
     "text": [
      "2025-06-02 23:00:38,523 - mlcbakery.bakery_client - ERROR - Request failed: 404 Client Error: Not Found for url: http://localhost:8081/api/v1/models/openai/clip-vit-base-patch16\n",
      "2025-06-02 23:00:38,523 - mlcbakery.bakery_client - INFO - Model 'openai/clip-vit-base-patch16' not found.\n"
     ]
    },
    {
     "name": "stderr",
     "output_type": "stream",
     "text": [
      "2025-06-02 23:00:40,859 - mlcbakery.bakery_client - ERROR - Request failed: 404 Client Error: Not Found for url: http://localhost:8081/api/v1/collections/openai\n",
      "2025-06-02 23:00:40,859 - mlcbakery.bakery_client - WARNING - Could not list collections, attempting to create: Failed to get collection openai: 404 Client Error: Not Found for url: http://localhost:8081/api/v1/collections/openai\n",
      "2025-06-02 23:00:40,940 - mlcbakery.bakery_client - ERROR - Request failed: 404 Client Error: Not Found for url: http://localhost:8081/api/v1/collections/compliance\n",
      "2025-06-02 23:00:40,940 - mlcbakery.bakery_client - WARNING - Could not list collections, attempting to create: Failed to get collection compliance: 404 Client Error: Not Found for url: http://localhost:8081/api/v1/collections/compliance\n",
      "2025-06-02 23:00:40,952 - mlcbakery.bakery_client - ERROR - Request failed: 404 Client Error: Not Found for url: http://localhost:8081/api/v1/datasets/compliance/seedlings-tiny\n",
      "2025-06-02 23:00:40,952 - mlcbakery.bakery_client - INFO - Dataset 'compliance/seedlings-tiny' not found.\n",
      "2025-06-02 23:00:40,953 - mlcbakery.bakery_client - INFO - Creating dataset seedlings-tiny in collection compliance with collection_id 2\n",
      "2025-06-02 23:00:40,977 - mlcbakery.bakery_client - ERROR - Request failed: 404 Client Error: Not Found for url: http://localhost:8081/api/v1/datasets/compliance/seedlings-tiny/preview\n",
      "2025-06-02 23:00:40,977 - mlcbakery.bakery_client - INFO - Preview for dataset compliance/seedlings-tiny not found.\n",
      "2025-06-02 23:00:40,986 - mlcbakery.bakery_client - ERROR - Request failed: 404 Client Error: Not Found for url: http://localhost:8081/api/v1/models/compliance/seedlings-tiny-vit-base-patch16\n",
      "2025-06-02 23:00:40,986 - mlcbakery.bakery_client - INFO - Model 'compliance/seedlings-tiny-vit-base-patch16' not found.\n",
      "2025-06-02 23:00:40,986 - mlcbakery.bakery_client - INFO - Creating model seedlings-tiny-vit-base-patch16 in collection compliance\n",
      "2025-06-02 23:00:40,998 - mlcbakery.bakery_client - INFO - Requesting creation of entity relationship for target 'trained_model/compliance/seedlings-tiny-vit-base-patch16' with activity 'trained' and source 'dataset/compliance/seedlings-tiny'.\n",
      "2025-06-02 23:00:41,010 - mlcbakery.bakery_client - INFO - Successfully created entity relationship with ID: 1\n",
      "2025-06-02 23:00:41,010 - mlcbakery.bakery_client - INFO - Requesting creation of entity relationship for target 'trained_model/compliance/seedlings-tiny-vit-base-patch16' with activity 'generated' and source 'trained_model/openai/clip-vit-base-patch16'.\n",
      "2025-06-02 23:00:41,019 - mlcbakery.bakery_client - INFO - Successfully created entity relationship with ID: 2\n"
     ]
    },
    {
     "name": "stdout",
     "output_type": "stream",
     "text": [
      "{'id': 1, 'source_entity_id': 2, 'target_entity_id': 3, 'activity_name': 'trained', 'agent_id': None}\n"
     ]
    },
    {
     "data": {
      "text/plain": [
       "{'id': 2,\n",
       " 'source_entity_id': 1,\n",
       " 'target_entity_id': 3,\n",
       " 'activity_name': 'generated',\n",
       " 'agent_id': None}"
      ]
     },
     "execution_count": 8,
     "metadata": {},
     "output_type": "execute_result"
    }
   ],
   "source": [
    "\n",
    "clip_model = find_or_copy_model(remote_bakery_client, local_bakery_client,  collection_name=\"openai\", model_name=\"clip-vit-base-patch16\")\n",
    "\n",
    "compliance_dataset = local_bakery_client.push_dataset(\n",
    "    dataset_path=\"compliance/seedlings-tiny\",\n",
    "    metadata={},\n",
    "    long_description=\"Seedling compliance images\",\n",
    "    asset_origin=\"local_training\",\n",
    "    format=\"image/png\",\n",
    "    data_path=\"git+ssh://localhost:8081/compliance/seedlings-tiny/main\"\n",
    ")\n",
    "\n",
    "# define a new model that uses the compliance dataset\n",
    "\n",
    "compliance_model = local_bakery_client.push_model(\n",
    "    model_identifier=\"compliance/seedlings-tiny-vit-base-patch16\",\n",
    "    model_physical_path=\"git+ssh://localhost:8081/compliance/seedlings-tiny-vit-base-patch16/main\",\n",
    "    model_metadata={},\n",
    "    model_attributes={},\n",
    ")\n",
    "\n",
    "rel = local_bakery_client.create_entity_relationship(\n",
    "    target_entity_str=f\"trained_model/{compliance_model.collection_name}/{compliance_model.name}\",\n",
    "    source_entity_str=f\"dataset/{compliance_dataset.collection_name}/{compliance_dataset.name}\",\n",
    "    activity_name=\"trained\",\n",
    ")\n",
    "print(rel)\n",
    "\n",
    "local_bakery_client.create_entity_relationship(\n",
    "    target_entity_str=f\"trained_model/{compliance_model.collection_name}/{compliance_model.name}\",\n",
    "    source_entity_str=f\"trained_model/{clip_model.collection_name}/{clip_model.name}\",\n",
    "    activity_name=\"generated\",\n",
    ")"
   ]
  },
  {
   "cell_type": "code",
   "execution_count": 10,
   "metadata": {},
   "outputs": [
    {
     "data": {
      "text/plain": [
       "{'id': 3,\n",
       " 'name': 'seedlings-tiny-vit-base-patch16',\n",
       " 'collection_name': 'compliance',\n",
       " 'entity_type': 'trained_model',\n",
       " 'activity_name': None,\n",
       " 'upstream_entities': [{'id': 2,\n",
       "   'name': 'seedlings-tiny',\n",
       "   'collection_name': 'compliance',\n",
       "   'entity_type': 'dataset',\n",
       "   'activity_name': 'trained',\n",
       "   'upstream_entities': [],\n",
       "   'downstream_entities': []},\n",
       "  {'id': 1,\n",
       "   'name': 'clip-vit-base-patch16',\n",
       "   'collection_name': 'openai',\n",
       "   'entity_type': 'trained_model',\n",
       "   'activity_name': 'generated',\n",
       "   'upstream_entities': [],\n",
       "   'downstream_entities': []}],\n",
       " 'downstream_entities': []}"
      ]
     },
     "execution_count": 10,
     "metadata": {},
     "output_type": "execute_result"
    }
   ],
   "source": [
    "local_bakery_client.get_upstream_entities(entity_type=\"trained_model\", collection_name=compliance_model.collection_name, entity_name=compliance_model.name)"
   ]
  },
  {
   "cell_type": "code",
   "execution_count": 11,
   "metadata": {},
   "outputs": [
    {
     "data": {
      "text/plain": [
       "{'id': 2,\n",
       " 'name': 'seedlings-tiny',\n",
       " 'collection_name': 'compliance',\n",
       " 'entity_type': 'dataset',\n",
       " 'activity_name': None,\n",
       " 'upstream_entities': [],\n",
       " 'downstream_entities': [{'id': 3,\n",
       "   'name': 'seedlings-tiny-vit-base-patch16',\n",
       "   'collection_name': 'compliance',\n",
       "   'entity_type': 'trained_model',\n",
       "   'activity_name': 'trained',\n",
       "   'upstream_entities': [{'id': 1,\n",
       "     'name': 'clip-vit-base-patch16',\n",
       "     'collection_name': 'openai',\n",
       "     'entity_type': 'trained_model',\n",
       "     'activity_name': 'generated',\n",
       "     'upstream_entities': [],\n",
       "     'downstream_entities': []}],\n",
       "   'downstream_entities': []}]}"
      ]
     },
     "execution_count": 11,
     "metadata": {},
     "output_type": "execute_result"
    }
   ],
   "source": [
    "local_bakery_client.get_upstream_entities(entity_type=\"dataset\", collection_name=compliance_dataset.collection_name, entity_name=compliance_dataset.name)"
   ]
  },
  {
   "cell_type": "code",
   "execution_count": 16,
   "metadata": {},
   "outputs": [
    {
     "name": "stderr",
     "output_type": "stream",
     "text": [
      "2025-06-02 23:02:00,141 - mlcbakery.bakery_client - INFO - Updating model test_model in collection test_collection\n"
     ]
    },
    {
     "data": {
      "text/plain": [
       "BakeryModel(id=4, name='test_model', collection_id=3, model_path='/Users/jon/Projects/mlcbakery/notebooks/test_model.pkl', collection_name='test_collection', metadata_version='1.0.0', model_metadata={'accuracy': 0.95}, asset_origin='local_training', long_description='A detailed description of the test model.', model_attributes={'input_shape': [None, 224, 224, 3]}, created_at='2025-06-03T03:01:49.944926Z', parent_collection_model=None)"
      ]
     },
     "execution_count": 16,
     "metadata": {},
     "output_type": "execute_result"
    }
   ],
   "source": [
    "local_bakery_client.push_model(\n",
    "    \"test_collection/test_model\",\n",
    "    \"/Users/jon/Projects/mlcbakery/notebooks/test_model.pkl\",\n",
    "    model_metadata={\"accuracy\": 0.95},\n",
    "    asset_origin=\"local_training\",\n",
    "    long_description=\"A detailed description of the test model.\",\n",
    "    model_attributes={\"input_shape\": [None, 224, 224, 3]}\n",
    ")"
   ]
  }
 ],
 "metadata": {
  "kernelspec": {
   "display_name": ".venv",
   "language": "python",
   "name": "python3"
  },
  "language_info": {
   "codemirror_mode": {
    "name": "ipython",
    "version": 3
   },
   "file_extension": ".py",
   "mimetype": "text/x-python",
   "name": "python",
   "nbconvert_exporter": "python",
   "pygments_lexer": "ipython3",
   "version": "3.12.8"
  }
 },
 "nbformat": 4,
 "nbformat_minor": 2
}
