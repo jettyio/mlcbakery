{
 "cells": [
  {
   "cell_type": "code",
   "execution_count": 1,
   "metadata": {},
   "outputs": [],
   "source": [
    "import json\n",
    "\n",
    "import numpy as np\n",
    "import pandas as pd\n",
    "from mlcbakery import bakery_client\n",
    "import pathlib\n",
    "client = bakery_client.Client(\"http://localhost:8081\", token=os.getenv(\"BAKERY_API_KEY\"))\n"
   ]
  },
  {
   "cell_type": "code",
   "execution_count": null,
   "metadata": {},
   "outputs": [],
   "source": [
    "client.create_collection(\"AAA\")"
   ]
  },
  {
   "cell_type": "code",
   "execution_count": null,
   "metadata": {},
   "outputs": [],
   "source": [
    "# client.get_model_by_name(\"test_collection\", \"test_model\")\n",
    "client.find_or_create_by_collection_name(\"test_collectionX2\")"
   ]
  },
  {
   "cell_type": "code",
   "execution_count": null,
   "metadata": {},
   "outputs": [],
   "source": [
    "client.get_model_by_name(\"test_collection\", \"test_model\")"
   ]
  },
  {
   "cell_type": "code",
   "execution_count": 20,
   "metadata": {},
   "outputs": [],
   "source": [
    "m = client.get_model_by_name(\"test_collection\", \"test_model\")\n",
    "m.model_attributes"
   ]
  },
  {
   "cell_type": "code",
   "execution_count": null,
   "metadata": {},
   "outputs": [],
   "source": [
    "client.push_model(\n",
    "    \"test_collection/test_model\",\n",
    "    \"/Users/jon/Projects/mlcbakery/notebooks/test_model.pkl\",\n",
    "    model_metadata={\"accuracy\": 0.95},\n",
    "    asset_origin=\"local_training\",\n",
    "    long_description=\"A detailed description of the test model.\",\n",
    "    model_attributes={\"input_shape\": [None, 224, 224, 3]}\n",
    ")"
   ]
  }
 ],
 "metadata": {
  "kernelspec": {
   "display_name": ".venv",
   "language": "python",
   "name": "python3"
  },
  "language_info": {
   "codemirror_mode": {
    "name": "ipython",
    "version": 3
   },
   "file_extension": ".py",
   "mimetype": "text/x-python",
   "name": "python",
   "nbconvert_exporter": "python",
   "pygments_lexer": "ipython3",
   "version": "3.12.8"
  }
 },
 "nbformat": 4,
 "nbformat_minor": 2
}
