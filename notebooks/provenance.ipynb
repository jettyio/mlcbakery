{
 "cells": [
  {
   "cell_type": "code",
   "execution_count": 1,
   "metadata": {},
   "outputs": [],
   "source": [
    "import numpy as np\n",
    "import pandas as pd\n",
    "from mlcbakery import bakery_client\n",
    "import pathlib\n",
    "client = bakery_client.Client(\"http://localhost:8000\", token=\"authtoken\")\n",
    "\n",
    "def add_rand_column_to_dataset(path_to_csv, column_name):\n",
    "    df = pd.read_csv(path_to_csv)\n",
    "    df[column_name] = np.random.randint(0, 100)\n",
    "    df.to_csv(path_to_csv, index=False)\n"
   ]
  },
  {
   "cell_type": "code",
   "execution_count": 4,
   "metadata": {},
   "outputs": [
    {
     "data": {
      "text/plain": [
       "BakeryCollection(id=3995, name='test23', description='', storage_info=None, storage_provider=None)"
      ]
     },
     "execution_count": 4,
     "metadata": {},
     "output_type": "execute_result"
    }
   ],
   "source": [
    "client.find_or_create_by_collection_name(\"test23\")"
   ]
  },
  {
   "cell_type": "code",
   "execution_count": 7,
   "metadata": {},
   "outputs": [
    {
     "name": "stderr",
     "output_type": "stream",
     "text": [
      "2025-05-11 03:19:08,874 - mlcbakery.bakery_client - INFO - Created .bakery.json in './datasets/A1_000'\n"
     ]
    },
    {
     "data": {
      "text/plain": [
       "{'properties': {'type': 'dataset',\n",
       "  'name': 'A1_000',\n",
       "  'collection_name': 'test23',\n",
       "  'origin': 'jetty.io',\n",
       "  'metadata_version': '1.0.0'},\n",
       " 'parents': [{'generated_by': None, 'attributed_to': 'jon@jetty.io'}],\n",
       " 'assets': {'long_description': 'README.md', 'metadata': 'metadata.json'}}"
      ]
     },
     "execution_count": 7,
     "metadata": {},
     "output_type": "execute_result"
    }
   ],
   "source": [
    "attributed_to = \"jon@jetty.io\"\n",
    "# prepares the dataset folder for the bakery by creating a .bakery.json file based on the folder structure\n",
    "client.prepare_dataset(\"./datasets/A1_000\", params={\n",
    "    \"properties\": {\n",
    "        \"type\": \"dataset\",\n",
    "        \"name\": \"A1_000\",\n",
    "        \"collection_name\": \"test23\",\n",
    "        \"origin\": \"jetty.io\",\n",
    "        \"metadata_version\": \"1.0.0\",\n",
    "    },\n",
    "    \"parents\": [\n",
    "        {\n",
    "            \"generated_by\": None,\n",
    "            \"attributed_to\": attributed_to\n",
    "        }\n",
    "    ],\n",
    "    \"assets\": {\n",
    "        \"long_description\": \"README.md\",\n",
    "        \"metadata\": \"metadata.json\"\n",
    "    }    \n",
    "})"
   ]
  },
  {
   "cell_type": "code",
   "execution_count": 30,
   "metadata": {},
   "outputs": [],
   "source": [
    "import json\n",
    "# load json:\n",
    "with open(\"../../bakerydev-bakery-storage-sa.json\", \"r\") as f:\n",
    "    storage_info = json.load(f)\n",
    "client.update_collection_storage_info(\"test23\", storage_info=storage_info, storage_provider=\"gcp\")\n",
    "get_storage_info = client.get_collection_storage_info(\"test23\")"
   ]
  },
  {
   "cell_type": "code",
   "execution_count": 32,
   "metadata": {},
   "outputs": [
    {
     "name": "stderr",
     "output_type": "stream",
     "text": [
      "2025-05-11 03:24:27,838 - absl - WARNING - WARNING: The JSON-LD `@context` is not standard. Refer to the official @context (e.g., from the example datasets in https://github.com/mlcommons/croissant/tree/main/datasets/1.0). The different keys are: {'includes', 'md5', 'dct', 'fileObject', 'conformsTo', 'jsonPath', 'isLiveDataset', 'transform', 'fileProperty', 'parentField', 'cr', 'subField', 'data', 'path', 'fileSet', 'rai', 'format', 'key', 'repeated', 'replace', 'references', 'separator', 'examples', '@vocab', 'regex', '@language', 'citeAs'}\n",
      "2025-05-11 03:24:27,856 - mlcbakery.bakery_client - INFO - Created tar.gz of data folder at /tmp/tmpgn24j6_j.tar.gz\n",
      "2025-05-11 03:24:27,857 - mlcbakery.bakery_client - INFO - Pushing dataset 'test23/A1_000' to Bakery API\n",
      "2025-05-11 03:24:27,899 - absl - WARNING - WARNING: The JSON-LD `@context` is not standard. Refer to the official @context (e.g., from the example datasets in https://github.com/mlcommons/croissant/tree/main/datasets/1.0). The different keys are: {'includes', 'md5', 'dct', 'fileObject', 'conformsTo', 'jsonPath', 'isLiveDataset', 'transform', 'fileProperty', 'parentField', 'cr', 'subField', 'data', 'path', 'fileSet', 'rai', 'format', 'key', 'repeated', 'replace', 'references', 'separator', 'examples', '@vocab', 'regex', '@language', 'citeAs'}\n",
      "2025-05-11 03:24:27,919 - mlcbakery.bakery_client - ERROR - Request failed: 404 Client Error: Not Found for url: http://localhost:8000/api/v1/datasets/test23/A1_000/preview\n",
      "2025-05-11 03:24:27,921 - mlcbakery.bakery_client - INFO - Preview for dataset test23/A1_000 not found.\n",
      "2025-05-11 03:24:27,923 - mlcbakery.bakery_client - INFO - Updating dataset A1_000 in collection test23\n",
      "2025-05-11 03:24:27,947 - mlcbakery.bakery_client - INFO - Uploading data file for dataset A1_000 in collection test23\n",
      "2025-05-11 03:24:28,208 - absl - WARNING - WARNING: The JSON-LD `@context` is not standard. Refer to the official @context (e.g., from the example datasets in https://github.com/mlcommons/croissant/tree/main/datasets/1.0). The different keys are: {'includes', 'md5', 'dct', 'fileObject', 'conformsTo', 'jsonPath', 'isLiveDataset', 'transform', 'fileProperty', 'parentField', 'cr', 'subField', 'data', 'path', 'fileSet', 'rai', 'format', 'key', 'repeated', 'replace', 'references', 'separator', 'examples', '@vocab', 'regex', '@language', 'citeAs'}\n",
      "2025-05-11 03:24:28,238 - mlcbakery.bakery_client - ERROR - Request failed: 404 Client Error: Not Found for url: http://localhost:8000/api/v1/datasets/test23/A1_000/preview\n",
      "2025-05-11 03:24:28,239 - mlcbakery.bakery_client - INFO - Preview for dataset test23/A1_000 not found.\n"
     ]
    },
    {
     "data": {
      "text/plain": [
       "BakeryDataset(id=950, name='A1_000', collection_id=3995, parent_collection_dataset=None, metadata=Dataset(jsonld={'@context': {'sc': 'https://schema.org/', 'name': 'sc:name', 'description': 'sc:description', 'license': 'sc:license', 'distribution': 'sc:distribution', 'recordSet': 'sc:recordSet', 'field': 'sc:field', 'dataType': 'sc:dataType', 'source': 'sc:source', 'extract': 'sc:extract', 'column': 'sc:column', 'contentUrl': 'sc:contentUrl', 'encodingFormat': 'sc:encodingFormat', 'citation': 'sc:citation', 'datePublished': 'sc:datePublished', 'version': 'sc:version', '@base': 'cr_base_iri/'}, '@type': 'sc:Dataset', 'name': 'A1_000', 'description': 'Country population and favourite food dataset.', 'license': 'CC-BY-4.0', 'citation': 'Source: Example dataset for Jetty/MLC Bakery demo.', 'datePublished': '2024-06-07', 'version': '1.0.0', 'distribution': [{'@type': 'https://schema.org/FileObject', 'name': 'data.csv', 'contentUrl': 'data/data.csv', 'encodingFormat': 'text/csv', 'https://schema.org/sha256': 'f7968a7a31a9cd1cbe5b2d2306c574cfd5934c8166f5e158669440baf72237d5'}], 'recordSet': [{'name': 'countries', 'distribution': 'data.csv', 'field': [{'name': 'Country name', 'description': 'Name of the country.', 'dataType': 'sc:Text', 'source': {'extract': {'column': 'Country name'}}}, {'name': 'Population', 'description': 'Population of the country (as string, may contain commas).', 'dataType': 'sc:Text', 'source': {'extract': {'column': 'Population'}}}, {'name': 'Favourite food', 'description': 'Most popular food in the country.', 'dataType': 'sc:Text', 'source': {'extract': {'column': 'Favourite food'}}}]}]}, operations=OperationGraph(issues=Issues(_errors=set(), _warnings=set()), operations=<mlcroissant._src.operation_graph.base_operation.Operations object at 0x765057fa9f10>), metadata=Metadata(uuid=\"A1_000\"), debug=False, mapping=None), preview=None, format='csv', created_at='2025-05-11T03:19:28.133000Z', metadata_version='1.0.0', data_path='datasets/A1_000/data', long_description='# Dataset: A1_000\\n\\n**Description:**  \\nCountry population and favourite food dataset.\\n\\n**License:**  \\nCC-BY-4.0\\n\\n**Citation:**  \\nSource: Example dataset for Jetty/MLC Bakery demo.\\n\\n**Date Published:**  \\n2024-06-07\\n\\n**Version:**  \\n1.0.0\\n\\n---\\n\\n## Data Files\\n\\n- **data.csv**  \\n  - Format: text/csv  \\n  - Path: `data/data.csv`  \\n  - SHA256: `f7968a7a31a9cd1cbe5b2d2306c574cfd5934c8166f5e158669440baf72237d5`\\n\\n---\\n\\n## Record Set: countries\\n\\n| Field Name      | Description                                   | Data Type |\\n|-----------------|-----------------------------------------------|-----------|\\n| Country name    | Name of the country.                          | Text      |\\n| Population      | Population of the country (as string, may contain commas). | Text      |\\n| Favourite food  | Most popular food in the country.             | Text      |\\n\\n---\\n\\n## Source\\n\\nThis dataset is provided as an example for Jetty/MLC Bakery demo. ', asset_origin='jetty.io')"
      ]
     },
     "execution_count": 32,
     "metadata": {},
     "output_type": "execute_result"
    }
   ],
   "source": [
    "ds = client.save_to_bakery(\"./datasets/A1_000\", upload_data=True)\n",
    "ds"
   ]
  },
  {
   "cell_type": "code",
   "execution_count": 38,
   "metadata": {},
   "outputs": [
    {
     "name": "stderr",
     "output_type": "stream",
     "text": [
      "2025-05-11 03:26:21,925 - absl - WARNING - WARNING: The JSON-LD `@context` is not standard. Refer to the official @context (e.g., from the example datasets in https://github.com/mlcommons/croissant/tree/main/datasets/1.0). The different keys are: {'includes', 'md5', 'dct', 'fileObject', 'conformsTo', 'jsonPath', 'isLiveDataset', 'transform', 'fileProperty', 'parentField', 'cr', 'subField', 'data', 'path', 'fileSet', 'rai', 'format', 'key', 'repeated', 'replace', 'references', 'separator', 'examples', '@vocab', 'regex', '@language', 'citeAs'}\n",
      "2025-05-11 03:26:21,935 - mlcbakery.bakery_client - INFO - Created tar.gz of data folder at /tmp/tmpggav21t5.tar.gz\n",
      "2025-05-11 03:26:21,935 - mlcbakery.bakery_client - INFO - Pushing dataset 'test23/B1_000' to Bakery API\n",
      "2025-05-11 03:26:21,959 - mlcbakery.bakery_client - ERROR - Request failed: 404 Client Error: Not Found for url: http://localhost:8000/api/v1/datasets/test23/B1_000\n",
      "2025-05-11 03:26:21,960 - mlcbakery.bakery_client - INFO - Dataset 'test23/B1_000' not found.\n",
      "2025-05-11 03:26:21,963 - mlcbakery.bakery_client - INFO - Creating dataset B1_000 in collection test23 with collection_id 3995\n",
      "2025-05-11 03:26:22,000 - mlcbakery.bakery_client - INFO - Uploading data file for dataset B1_000 in collection test23\n",
      "2025-05-11 03:26:22,305 - absl - WARNING - WARNING: The JSON-LD `@context` is not standard. Refer to the official @context (e.g., from the example datasets in https://github.com/mlcommons/croissant/tree/main/datasets/1.0). The different keys are: {'includes', 'md5', 'dct', 'fileObject', 'conformsTo', 'jsonPath', 'isLiveDataset', 'transform', 'fileProperty', 'parentField', 'cr', 'subField', 'data', 'path', 'fileSet', 'rai', 'format', 'key', 'repeated', 'replace', 'references', 'separator', 'examples', '@vocab', 'regex', '@language', 'citeAs'}\n",
      "2025-05-11 03:26:22,334 - mlcbakery.bakery_client - ERROR - Request failed: 404 Client Error: Not Found for url: http://localhost:8000/api/v1/datasets/test23/B1_000/preview\n",
      "2025-05-11 03:26:22,336 - mlcbakery.bakery_client - INFO - Preview for dataset test23/B1_000 not found.\n"
     ]
    }
   ],
   "source": [
    "# client.duplicate_dataset(\"datasets/A1_000\", \"datasets/B1_000\", params={\n",
    "#     \"properties\": {\n",
    "#         \"name\": \"B1_000\"\n",
    "#     },\n",
    "# }, attributed_to=\"jon@jetty.io\")\n",
    "# add_rand_column_to_dataset(\"datasets/B1_000/data/data.csv\", \"B1\")\n",
    "ds = client.save_to_bakery(\"./datasets/B1_000\", upload_data=True)"
   ]
  },
  {
   "cell_type": "code",
   "execution_count": null,
   "metadata": {},
   "outputs": [],
   "source": [
    "# client.push_dataset(\"notebooks/datasets/A1_000\")\n",
    "\n",
    "# client.duplicate_dataset(\"notebooks/datasets/A1_000\", \"notebooks/datasets/B1_000\", params={\n",
    "#     \"properties\": {\n",
    "#         \"name\": \"B1_000\"\n",
    "#     },\n",
    "# }, attributed_to=attributed_to)\n",
    "# add_rand_column_to_dataset(\"notebooks/datasets/B1_000/data.csv\", \"B1\")\n",
    "# client.push_dataset(\"notebooks/datasets/B1_000\")"
   ]
  },
  {
   "cell_type": "code",
   "execution_count": 1,
   "metadata": {},
   "outputs": [
    {
     "data": {
      "text/plain": [
       "2"
      ]
     },
     "execution_count": 1,
     "metadata": {},
     "output_type": "execute_result"
    }
   ],
   "source": [
    "# take dataset A_### \n",
    "# generate some metadata\n",
    "# save the metadata + dataset as A1_###\n",
    "\n",
    "# grab a dataset A1_###\n",
    "# change the dataset + metadata\n",
    "# save the metadata + dataset as B1_###\n",
    "\n",
    "# grab a dataset A1_###\n",
    "# change the dataset + metadata\n",
    "# save the metadata + dataset as C1_###\n",
    "\n",
    "\n",
    "# grab a dataset B1_###\n",
    "# change the dataset + metadata\n",
    "# save the metadata + dataset as D1_###\n",
    "\n",
    "\n"
   ]
  },
  {
   "cell_type": "code",
   "execution_count": null,
   "metadata": {},
   "outputs": [],
   "source": []
  }
 ],
 "metadata": {
  "language_info": {
   "name": "python"
  }
 },
 "nbformat": 4,
 "nbformat_minor": 2
}
