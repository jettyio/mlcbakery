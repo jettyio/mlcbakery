{
 "cells": [
  {
   "cell_type": "code",
   "execution_count": 5,
   "metadata": {},
   "outputs": [],
   "source": [
    "import numpy as np\n",
    "import pandas as pd\n",
    "from mlcbakery import bakery_client\n",
    "import pathlib\n",
    "client = bakery_client.Client(\"http://localhost:8000\", token=\"authtoken\")\n",
    "\n",
    "def add_rand_column_to_dataset(path_to_csv, column_name):\n",
    "    df = pd.read_csv(path_to_csv)\n",
    "    df[column_name] = np.random.randint(0, 100)\n",
    "    df.to_csv(path_to_csv, index=False)\n"
   ]
  },
  {
   "cell_type": "code",
   "execution_count": 7,
   "metadata": {},
   "outputs": [
    {
     "name": "stderr",
     "output_type": "stream",
     "text": [
      "2025-05-12 19:17:25,085 - mlcbakery.bakery_client - ERROR - Request failed: 404 Client Error: Not Found for url: http://localhost:8000/api/v1/collections/test25\n",
      "2025-05-12 19:17:25,086 - mlcbakery.bakery_client - WARNING - Could not list collections, attempting to create: 404 Client Error: Not Found for url: http://localhost:8000/api/v1/collections/test25\n"
     ]
    },
    {
     "data": {
      "text/plain": [
       "BakeryCollection(id=3997, name='test25', description='', storage_info=None, storage_provider=None)"
      ]
     },
     "execution_count": 7,
     "metadata": {},
     "output_type": "execute_result"
    }
   ],
   "source": [
    "client.find_or_create_by_collection_name(\"test25\")"
   ]
  },
  {
   "cell_type": "code",
   "execution_count": 17,
   "metadata": {},
   "outputs": [
    {
     "data": {
      "text/plain": [
       "{'properties': {'type': 'dataset',\n",
       "  'name': 'C1_000',\n",
       "  'collection_name': 'test23',\n",
       "  'origin': 'jetty.io',\n",
       "  'metadata_version': '1.0.0'},\n",
       " 'parents': [{'generated_by': None, 'attributed_to': 'jon@jetty.io'}],\n",
       " 'assets': {'long_description': 'README.md', 'metadata': 'metadata.json'}}"
      ]
     },
     "execution_count": 17,
     "metadata": {},
     "output_type": "execute_result"
    }
   ],
   "source": [
    "attributed_to = \"jon@jetty.io\"\n",
    "# prepares the dataset folder for the bakery by creating a .manifest.json file based on the folder structure\n",
    "client.prepare_dataset(\"./datasets/C1_000\", params={\n",
    "    \"properties\": {\n",
    "        \"type\": \"dataset\",\n",
    "        \"name\": \"C1_000\",\n",
    "        \"collection_name\": \"test25\",\n",
    "        \"origin\": \"jetty.io\",\n",
    "        \"metadata_version\": \"1.0.0\",\n",
    "    },\n",
    "    \"parents\": [\n",
    "        {\n",
    "            \"generated_by\": None,\n",
    "            \"attributed_to\": attributed_to\n",
    "        }\n",
    "    ],\n",
    "    \"assets\": {\n",
    "        \"long_description\": \"README.md\",\n",
    "        \"metadata\": \"metadata.json\"\n",
    "    }    \n",
    "})"
   ]
  },
  {
   "cell_type": "code",
   "execution_count": 3,
   "metadata": {},
   "outputs": [
    {
     "name": "stderr",
     "output_type": "stream",
     "text": [
      "2025-05-12 03:54:19,085 - absl - WARNING - WARNING: The JSON-LD `@context` is not standard. Refer to the official @context (e.g., from the example datasets in https://github.com/mlcommons/croissant/tree/main/datasets/1.0). The different keys are: {'fileProperty', 'conformsTo', 'rai', 'includes', 'references', 'transform', 'citeAs', 'isLiveDataset', 'separator', '@vocab', 'format', 'data', '@language', 'key', 'dct', 'fileSet', 'cr', 'examples', 'path', 'parentField', 'subField', 'regex', 'jsonPath', 'md5', 'repeated', 'fileObject', 'replace'}\n",
      "2025-05-12 03:54:19,121 - mlcbakery.bakery_client - INFO - Created tar.gz of data folder at /tmp/tmpknwh62kw.tar.gz\n",
      "2025-05-12 03:54:19,122 - mlcbakery.bakery_client - INFO - Pushing dataset 'test23/A1_001' to Bakery API\n",
      "2025-05-12 03:54:19,313 - absl - WARNING - WARNING: The JSON-LD `@context` is not standard. Refer to the official @context (e.g., from the example datasets in https://github.com/mlcommons/croissant/tree/main/datasets/1.0). The different keys are: {'fileProperty', 'conformsTo', 'rai', 'includes', 'references', 'transform', 'citeAs', 'isLiveDataset', 'separator', '@vocab', 'format', 'data', '@language', 'key', 'dct', 'fileSet', 'cr', 'examples', 'path', 'parentField', 'subField', 'regex', 'jsonPath', 'md5', 'repeated', 'fileObject', 'replace'}\n",
      "2025-05-12 03:54:19,350 - mlcbakery.bakery_client - ERROR - Request failed: 404 Client Error: Not Found for url: http://localhost:8000/api/v1/datasets/test23/A1_001/preview\n",
      "2025-05-12 03:54:19,352 - mlcbakery.bakery_client - INFO - Preview for dataset test23/A1_001 not found.\n",
      "2025-05-12 03:54:19,355 - mlcbakery.bakery_client - INFO - Updating dataset A1_001 in collection test23\n",
      "2025-05-12 03:54:19,402 - mlcbakery.bakery_client - INFO - Uploading data file for dataset A1_001 in collection test23\n",
      "2025-05-12 03:54:19,861 - absl - WARNING - WARNING: The JSON-LD `@context` is not standard. Refer to the official @context (e.g., from the example datasets in https://github.com/mlcommons/croissant/tree/main/datasets/1.0). The different keys are: {'fileProperty', 'conformsTo', 'rai', 'includes', 'references', 'transform', 'citeAs', 'isLiveDataset', 'separator', '@vocab', 'format', 'data', '@language', 'key', 'dct', 'fileSet', 'cr', 'examples', 'path', 'parentField', 'subField', 'regex', 'jsonPath', 'md5', 'repeated', 'fileObject', 'replace'}\n",
      "2025-05-12 03:54:19,898 - mlcbakery.bakery_client - ERROR - Request failed: 404 Client Error: Not Found for url: http://localhost:8000/api/v1/datasets/test23/A1_001/preview\n",
      "2025-05-12 03:54:19,899 - mlcbakery.bakery_client - INFO - Preview for dataset test23/A1_001 not found.\n"
     ]
    }
   ],
   "source": [
    "ds = client.save_to_bakery(\"./datasets/C1_000\", upload_data=True)"
   ]
  },
  {
   "cell_type": "code",
   "execution_count": 9,
   "metadata": {},
   "outputs": [],
   "source": [
    "import json\n",
    "# load json:\n",
    "with open(\"../../bakerydev-bakery-storage-sa.json\", \"r\") as f:\n",
    "    storage_info = json.load(f)\n",
    "client.update_collection_storage_info(\"test23\", storage_info=storage_info, storage_provider=\"gcp\")\n",
    "get_storage_info = client.get_collection_storage_info(\"test23\")"
   ]
  },
  {
   "cell_type": "code",
   "execution_count": 8,
   "metadata": {},
   "outputs": [],
   "source": [
    "# ds = client.save_to_bakery(\"./datasets/A1_000\", upload_data=True)\n",
    "# ds"
   ]
  },
  {
   "cell_type": "code",
   "execution_count": 6,
   "metadata": {},
   "outputs": [
    {
     "name": "stderr",
     "output_type": "stream",
     "text": [
      "2025-05-12 03:55:55,332 - mlcbakery.bakery_client - INFO - Copied dataset from 'datasets/A1_000' to 'datasets/B1_005'\n",
      "2025-05-12 03:55:55,333 - mlcbakery.bakery_client - INFO - Updated .manifest.json in 'datasets/B1_005'\n",
      "2025-05-12 03:55:55,336 - absl - WARNING - WARNING: The JSON-LD `@context` is not standard. Refer to the official @context (e.g., from the example datasets in https://github.com/mlcommons/croissant/tree/main/datasets/1.0). The different keys are: {'fileProperty', 'conformsTo', 'rai', 'includes', 'references', 'transform', 'citeAs', 'isLiveDataset', 'separator', '@vocab', 'format', 'data', '@language', 'key', 'dct', 'fileSet', 'cr', 'examples', 'path', 'parentField', 'subField', 'regex', 'jsonPath', 'md5', 'repeated', 'fileObject', 'replace'}\n",
      "2025-05-12 03:55:55,346 - mlcbakery.bakery_client - INFO - Created tar.gz of data folder at /tmp/tmp6n1liyqy.tar.gz\n",
      "2025-05-12 03:55:55,347 - mlcbakery.bakery_client - INFO - Pushing dataset 'test23/B1_004' to Bakery API\n",
      "2025-05-12 03:55:55,375 - mlcbakery.bakery_client - ERROR - Request failed: 404 Client Error: Not Found for url: http://localhost:8000/api/v1/datasets/test23/B1_004\n",
      "2025-05-12 03:55:55,377 - mlcbakery.bakery_client - INFO - Dataset 'test23/B1_004' not found.\n",
      "2025-05-12 03:55:55,380 - mlcbakery.bakery_client - INFO - Creating dataset B1_004 in collection test23 with collection_id 3995\n",
      "2025-05-12 03:55:55,495 - mlcbakery.bakery_client - INFO - Uploading data file for dataset B1_004 in collection test23\n",
      "2025-05-12 03:55:55,800 - absl - WARNING - WARNING: The JSON-LD `@context` is not standard. Refer to the official @context (e.g., from the example datasets in https://github.com/mlcommons/croissant/tree/main/datasets/1.0). The different keys are: {'fileProperty', 'conformsTo', 'rai', 'includes', 'references', 'transform', 'citeAs', 'isLiveDataset', 'separator', '@vocab', 'format', 'data', '@language', 'key', 'dct', 'fileSet', 'cr', 'examples', 'path', 'parentField', 'subField', 'regex', 'jsonPath', 'md5', 'repeated', 'fileObject', 'replace'}\n",
      "2025-05-12 03:55:55,850 - mlcbakery.bakery_client - ERROR - Request failed: 404 Client Error: Not Found for url: http://localhost:8000/api/v1/datasets/test23/B1_004/preview\n",
      "2025-05-12 03:55:55,852 - mlcbakery.bakery_client - INFO - Preview for dataset test23/B1_004 not found.\n"
     ]
    }
   ],
   "source": [
    "client.duplicate_dataset(\"datasets/A1_000\", \"datasets/B1_005\", params={\n",
    "    \"properties\": {\n",
    "        \"name\": \"B1_004\"\n",
    "    },\n",
    "}, attributed_to=\"jon@jetty.io\")\n",
    "# add_rand_column_to_dataset(\"datasets/B1_000/data/data.csv\", \"B1\")\n",
    "ds = client.save_to_bakery(\"./datasets/B1_005\", upload_data=True)"
   ]
  },
  {
   "cell_type": "code",
   "execution_count": null,
   "metadata": {},
   "outputs": [],
   "source": [
    "# client.push_dataset(\"notebooks/datasets/A1_000\")\n",
    "\n",
    "# client.duplicate_dataset(\"notebooks/datasets/A1_000\", \"notebooks/datasets/B1_000\", params={\n",
    "#     \"properties\": {\n",
    "#         \"name\": \"B1_000\"\n",
    "#     },\n",
    "# }, attributed_to=attributed_to)\n",
    "# add_rand_column_to_dataset(\"notebooks/datasets/B1_000/data.csv\", \"B1\")\n",
    "# client.push_dataset(\"notebooks/datasets/B1_000\")"
   ]
  },
  {
   "cell_type": "code",
   "execution_count": 1,
   "metadata": {},
   "outputs": [
    {
     "data": {
      "text/plain": [
       "2"
      ]
     },
     "execution_count": 1,
     "metadata": {},
     "output_type": "execute_result"
    }
   ],
   "source": [
    "# take dataset A_### \n",
    "# generate some metadata\n",
    "# save the metadata + dataset as A1_###\n",
    "\n",
    "# grab a dataset A1_###\n",
    "# change the dataset + metadata\n",
    "# save the metadata + dataset as B1_###\n",
    "\n",
    "# grab a dataset A1_###\n",
    "# change the dataset + metadata\n",
    "# save the metadata + dataset as C1_###\n",
    "\n",
    "\n",
    "# grab a dataset B1_###\n",
    "# change the dataset + metadata\n",
    "# save the metadata + dataset as D1_###\n",
    "\n",
    "\n"
   ]
  },
  {
   "cell_type": "code",
   "execution_count": 13,
   "metadata": {},
   "outputs": [
    {
     "name": "stderr",
     "output_type": "stream",
     "text": [
      "WARNING:absl:WARNING: The JSON-LD `@context` is not standard. Refer to the official @context (e.g., from the example datasets in https://github.com/mlcommons/croissant/tree/main/datasets/1.0). The different keys are: {'rai', 'examples'}\n"
     ]
    },
    {
     "name": "stderr",
     "output_type": "stream",
     "text": [
      "WARNING:absl:Found the following 3 warning(s) during the validation:\n",
      "  -  [Metadata(RefRef)] Property \"http://mlcommons.org/croissant/citeAs\" is recommended, but does not exist.\n",
      "  -  [Metadata(RefRef)] Property \"https://schema.org/datePublished\" is recommended, but does not exist.\n",
      "  -  [Metadata(RefRef)] Property \"https://schema.org/version\" is recommended, but does not exist.\n"
     ]
    },
    {
     "data": {
      "text/plain": [
       "ValidationResult(passed=True, message='The dataset passes Croissant validation.', details=None, valid_json_data=None)"
      ]
     },
     "execution_count": 13,
     "metadata": {},
     "output_type": "execute_result"
    }
   ],
   "source": [
    "from mlcbakery import croissant_validation\n",
    "result = croissant_validation.validate_json(\"../test.json\")\n",
    "croissant_validation.validate_croissant(result.valid_json_data)"
   ]
  }
 ],
 "metadata": {
  "language_info": {
   "name": "python"
  }
 },
 "nbformat": 4,
 "nbformat_minor": 2
}
