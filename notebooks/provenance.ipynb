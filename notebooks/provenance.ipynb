{
 "cells": [
  {
   "cell_type": "code",
   "execution_count": null,
   "metadata": {},
   "outputs": [],
   "source": [
    "import json\n",
    "\n",
    "import numpy as np\n",
    "import pandas as pd\n",
    "from mlcbakery import bakery_client\n",
    "import os\n",
    "client = bakery_client.Client(\"http://localhost:8081\", token=os.getenv(\"ADMIN_AUTH_TOKEN\"))\n",
    "\n",
    "def add_rand_column_to_dataset(path_to_csv, column_name):\n",
    "    df = pd.read_csv(path_to_csv)\n",
    "    df[column_name] = np.random.randint(0, 100)\n",
    "    df.to_csv(path_to_csv, index=False)\n",
    "\n",
    "def load_json(path):\n",
    "    with open(path, \"r\") as f:\n",
    "        return json.load(f)\n",
    "    \n",
    "\n",
    "collection_name = \"test_provenance\"\n",
    "client.find_or_create_by_collection_name(collection_name)\n",
    "client.update_collection_storage_info(collection_name, storage_info=load_json(os.getenv(\"GCP_SA_PATH\")), storage_provider=\"gcp\")"
   ]
  },
  {
   "cell_type": "code",
   "execution_count": null,
   "metadata": {},
   "outputs": [],
   "source": [
    "# prepares the dataset folder for the bakery by creating a .manifest.json file based on the folder structure\n",
    "client.prepare_dataset(\"../test_datasets/doors\", \"doors\", collection_name)"
   ]
  },
  {
   "cell_type": "code",
   "execution_count": null,
   "metadata": {},
   "outputs": [],
   "source": [
    "client.save_to_bakery(\"../test_datasets/doors\", upload_data=True)"
   ]
  },
  {
   "cell_type": "code",
   "execution_count": null,
   "metadata": {},
   "outputs": [],
   "source": [
    "client.duplicate_dataset(\"../test_datasets/doors\", \"../test_datasets/doors.updated\", {\n",
    "    \"properties\": {\n",
    "        \"name\": \"doors.updated\"\n",
    "    }\n",
    "})"
   ]
  },
  {
   "cell_type": "code",
   "execution_count": null,
   "metadata": {},
   "outputs": [],
   "source": [
    "client.save_to_bakery(\"../test_datasets/doors.updated\", upload_data=False)"
   ]
  },
  {
   "cell_type": "code",
   "execution_count": null,
   "metadata": {},
   "outputs": [],
   "source": [
    "client.get_upstream_entities(collection_name, \"doors.updated\")"
   ]
  },
  {
   "cell_type": "code",
   "execution_count": null,
   "metadata": {},
   "outputs": [],
   "source": [
    "# source = \"D1_002\"\n",
    "# target = \"D1_003\"\n",
    "# try:\n",
    "#     client.duplicate_dataset(f\"datasets/{source}\", f\"datasets/{target}\", params={\n",
    "#         \"properties\": {\n",
    "#             \"name\": target\n",
    "#         },\n",
    "#     })\n",
    "# except Exception as e:\n",
    "#     print(e)\n",
    "#     pass\n",
    "# add_rand_column_to_dataset(f\"datasets/{target}/data/data.csv\", target)\n",
    "# client.save_to_bakery(f\"./datasets/{target}\", upload_data=True)\n",
    "# client.create_entity_relationship(\"dataset/test25/D1_001\", \"generated\", \"dataset/test25/D1_000\")"
   ]
  }
 ],
 "metadata": {
  "kernelspec": {
   "display_name": ".venv",
   "language": "python",
   "name": "python3"
  },
  "language_info": {
   "codemirror_mode": {
    "name": "ipython",
    "version": 3
   },
   "file_extension": ".py",
   "mimetype": "text/x-python",
   "name": "python",
   "nbconvert_exporter": "python",
   "pygments_lexer": "ipython3",
   "version": "3.12.8"
  }
 },
 "nbformat": 4,
 "nbformat_minor": 2
}
