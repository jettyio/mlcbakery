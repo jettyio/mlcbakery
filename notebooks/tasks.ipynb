{
 "cells": [
  {
   "cell_type": "code",
   "execution_count": 3,
   "metadata": {},
   "outputs": [
    {
     "name": "stdout",
     "output_type": "stream",
     "text": [
      "Testing task creation...\n",
      "✅ Task created successfully: test_task2\n",
      "   ID: 11\n",
      "   Version: 1.0.0\n",
      "   Description: test_task\n"
     ]
    }
   ],
   "source": [
    "import json\n",
    "\n",
    "import numpy as np\n",
    "import pandas as pd\n",
    "from mlcbakery import bakery_client\n",
    "import os\n",
    "\n",
    "# Test task creation after fixing the remote_addr column issue\n",
    "client = bakery_client.Client(\"http://localhost:8081\", token=os.getenv(\"ADMIN_AUTH_TOKEN\"))\n",
    "print(\"Testing task creation...\")\n",
    "task = client.create_task(\n",
    "    collection_name=\"test\",\n",
    "    task_name=\"test_task2\",\n",
    "    workflow={\"steps\": [\"step1\", \"step2\"]},\n",
    "    version=\"1.0.0\",\n",
    "    description=\"test_task\",\n",
    ")\n",
    "print(f\"✅ Task created successfully: {task.name}\")\n",
    "print(f\"   ID: {task.id}\")\n",
    "print(f\"   Version: {task.version}\")\n",
    "print(f\"   Description: {task.description}\")"
   ]
  },
  {
   "cell_type": "code",
   "execution_count": 3,
   "metadata": {},
   "outputs": [
    {
     "data": {
      "text/plain": [
       "BakeryCollection(id=6, name='test', description='', storage_info=None, storage_provider=None)"
      ]
     },
     "execution_count": 3,
     "metadata": {},
     "output_type": "execute_result"
    }
   ],
   "source": [
    "client.find_or_create_by_collection_name(\"test\")"
   ]
  },
  {
   "cell_type": "code",
   "execution_count": null,
   "metadata": {},
   "outputs": [],
   "source": []
  }
 ],
 "metadata": {
  "kernelspec": {
   "display_name": ".venv",
   "language": "python",
   "name": "python3"
  },
  "language_info": {
   "codemirror_mode": {
    "name": "ipython",
    "version": 3
   },
   "file_extension": ".py",
   "mimetype": "text/x-python",
   "name": "python",
   "nbconvert_exporter": "python",
   "pygments_lexer": "ipython3",
   "version": "3.12.8"
  }
 },
 "nbformat": 4,
 "nbformat_minor": 2
}
